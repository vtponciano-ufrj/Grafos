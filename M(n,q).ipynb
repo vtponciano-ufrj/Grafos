{
  "nbformat": 4,
  "nbformat_minor": 0,
  "metadata": {
    "colab": {
      "provenance": [],
      "authorship_tag": "ABX9TyOJpJD47vZUNKpEDGdZfUmM",
      "include_colab_link": true
    },
    "kernelspec": {
      "name": "python3",
      "display_name": "Python 3"
    },
    "language_info": {
      "name": "python"
    }
  },
  "cells": [
    {
      "cell_type": "markdown",
      "metadata": {
        "id": "view-in-github",
        "colab_type": "text"
      },
      "source": [
        "<a href=\"https://colab.research.google.com/github/vtponciano-ufrj/Grafos/blob/main/M(n%2Cq).ipynb\" target=\"_parent\"><img src=\"https://colab.research.google.com/assets/colab-badge.svg\" alt=\"Open In Colab\"/></a>"
      ]
    },
    {
      "cell_type": "code",
      "execution_count": 3,
      "metadata": {
        "id": "5YPVxG-7Kqgd"
      },
      "outputs": [],
      "source": [
        "\n",
        "\n",
        "import pandas as pd \n",
        "import networkx as nx\n",
        "import matplotlib.pyplot as plt\n",
        "import numpy as np\n",
        "import networkx\n",
        "import csv\n",
        "\n",
        "def Grafo_M(n,q):\n",
        " \n",
        "  m=(n+q)//(2*(q))\n",
        "  k=n//(q)\n",
        "  h=q+(m-1)*(4*q-10)\n",
        "            \n",
        "  ################################# M(n,q) #################################################\n",
        "  G =  nx.Graph()\n",
        "\n",
        "  for i in range(1,n):\n",
        "      G.add_edge('u'+str(i), 'v'+str(i),line_type=\"line\",arrowhead=\"none\", arrowfoot=\"none\")\n",
        "      G.add_edge('u'+str(i), 'u'+str(i+1),line_type=\"line\",arrowhead=\"none\", arrowfoot=\"none\")\n",
        "    \n",
        "  G.add_edge('u'+str(1), 'u'+str(n),line_type=\"line\",arrowhead=\"none\", arrowfoot=\"none\")   \n",
        "  G.add_edge('u'+str(n), 'v'+str(n),line_type=\"line\",arrowhead=\"none\", arrowfoot=\"none\")   \n",
        "  \n",
        "\n",
        "  def complete_graph(l):\n",
        "     for i in range(1,k+1):\n",
        "       for  j in range(l,q):\n",
        "          G.add_edge('v'+str(i+(l-1)*k), 'v'+str(i+j*k),line_type=\"line\",arrowhead=\"none\", arrowfoot=\"none\")   \n",
        "\n",
        "  for i in range(1,q):\n",
        "    complete_graph(i)     \n",
        "  \n",
        "  nx.write_gexf(G, f\"M({str(n)},{str(q)}).gexf\")\n",
        "  nx.write_edgelist(G,f\"M({str(n)},{str(q)}).tgf\", delimiter=f\" \",data=False)\n",
        "  nx.write_pajek(G, f\"M({str(n)},{str(q)}).net\")\n",
        " \n",
        " #Entre com n e q\n",
        "n=750 \n",
        "q=75\n",
        "Grafo_M(n,q)\n",
        "  "
      ]
    }
  ]
}