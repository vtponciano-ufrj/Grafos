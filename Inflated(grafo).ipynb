{
  "nbformat": 4,
  "nbformat_minor": 0,
  "metadata": {
    "colab": {
      "provenance": [],
      "collapsed_sections": [],
      "authorship_tag": "ABX9TyNZnmLWIlVjzlI9LHA5gWSG",
      "include_colab_link": true
    },
    "kernelspec": {
      "name": "python3",
      "display_name": "Python 3"
    },
    "language_info": {
      "name": "python"
    }
  },
  "cells": [
    {
      "cell_type": "markdown",
      "metadata": {
        "id": "view-in-github",
        "colab_type": "text"
      },
      "source": [
        "<a href=\"https://colab.research.google.com/github/vtponciano-ufrj/Grafos/blob/main/Inflated(grafo).ipynb\" target=\"_parent\"><img src=\"https://colab.research.google.com/assets/colab-badge.svg\" alt=\"Open In Colab\"/></a>"
      ]
    },
    {
      "cell_type": "code",
      "execution_count": null,
      "metadata": {
        "colab": {
          "base_uri": "https://localhost:8080/"
        },
        "id": "tH8cPWQlHpOP",
        "outputId": "5e59390d-d908-4940-d1ba-1de43caed1ac"
      },
      "outputs": [
        {
          "output_type": "stream",
          "name": "stdout",
          "text": [
            "Looking in indexes: https://pypi.org/simple, https://us-python.pkg.dev/colab-wheels/public/simple/\n",
            "Requirement already satisfied: pyyed in /usr/local/lib/python3.7/dist-packages (1.5.0)\n"
          ]
        }
      ],
      "source": [
        "!pip install pyyed\n",
        "import pyyed\n",
        "import pandas as pd \n",
        "import networkx as nx\n",
        "import matplotlib.pyplot as plt\n",
        "import numpy as np\n",
        "import networkx\n",
        "import csv\n",
        "import networkx as nx\n",
        "from networkx.generators.random_graphs import erdos_renyi_graph\n",
        "\n",
        "\n",
        "def Inflated(H):\n",
        "  G =  nx.Graph()\n",
        "  n= H.number_of_nodes()\n",
        "  \n",
        "  for  i in range(0,n):\n",
        "      for  j in range(0,n):\n",
        "         if j!=i:\n",
        "            if H.has_edge(i,j)==True:\n",
        "               G.add_edge(str(i)+str(j),str(j)+str(i)) \n",
        "               #G.add_edge('V'+str(i),'V'+str(j))\n",
        "\n",
        "  for  i in range(0,n):\n",
        "    for  j in range(0,n):\n",
        "       for  k in range(0,n):\n",
        "         if G.has_node(str(i)+str(j))==True and  G.has_node(str(i)+str(k))==True:\n",
        "            if j!=k:\n",
        "               G.add_edge(str(i)+str(j), str(i)+str(k))\n",
        "  \n",
        "  nx.write_gexf(G, f\"Inflated{(str(m))}.gexf\")\n",
        "  nx.write_edgelist(G,f\"Inflated{(str(m))}.txt\", delimiter=f\" \")\n",
        "\n",
        "m=1\n",
        "#p = 0.7\n",
        "#H = erdos_renyi_graph(m, p)\n",
        "# H =nx.complete_graph(m)\n",
        "# H= nx.complete_bipartite_graph(3,4)\n",
        "H=nx.circular_ladder_graph(300)\n",
        "# H=nx.dorogovtsev_goltsev_mendes_graph(4)\n",
        "# H=nx.lollipop_graph(10,5, create_using=None)\n",
        "#H=nx.random_regular_graph(4,30, seed=None)\n",
        "#H=nx.mycielski_graph(5)\n",
        "Inflated(H)\n"
      ]
    }
  ]
}
