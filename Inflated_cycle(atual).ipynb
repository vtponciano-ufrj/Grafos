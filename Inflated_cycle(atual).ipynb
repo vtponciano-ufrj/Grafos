{
  "nbformat": 4,
  "nbformat_minor": 0,
  "metadata": {
    "colab": {
      "provenance": [],
      "collapsed_sections": [],
      "authorship_tag": "ABX9TyN4T/yIQX5j3BNKUM+pIbpx",
      "include_colab_link": true
    },
    "kernelspec": {
      "name": "python3",
      "display_name": "Python 3"
    },
    "language_info": {
      "name": "python"
    }
  },
  "cells": [
    {
      "cell_type": "markdown",
      "metadata": {
        "id": "view-in-github",
        "colab_type": "text"
      },
      "source": [
        "<a href=\"https://colab.research.google.com/github/vtponciano-ufrj/Grafos/blob/main/Inflated_cycle(atual).ipynb\" target=\"_parent\"><img src=\"https://colab.research.google.com/assets/colab-badge.svg\" alt=\"Open In Colab\"/></a>"
      ]
    },
    {
      "cell_type": "code",
      "execution_count": 221,
      "metadata": {
        "id": "tH8cPWQlHpOP"
      },
      "outputs": [],
      "source": [
        "from IPython.core.prefilter import MacroChecker\n",
        "from networkx.readwrite.json_graph import jit_data\n",
        "import networkx as nx\n",
        "from networkx.generators.random_graphs import erdos_renyi_graph\n",
        "from math import ceil\n",
        "import networkx as nx\n",
        "# Not necessary, but will be used later:\n",
        "import numpy as np \n",
        "import matplotlib.pyplot as plt \n",
        "\n",
        "\n",
        "\n",
        "def Inflated_cycle(H):\n",
        "  G =  nx.Graph()\n",
        "  n1=H.number_of_nodes()\n",
        "  M= nx.Graph()\n",
        "  \n",
        "  \n",
        "  for  i in range(0,n1):\n",
        "      for  j in range(0,n1):\n",
        "         if H.has_edge(i,j)==True:\n",
        "            G.add_node( f'[{str(i)}]'+ f'[{str(i)}'+','+f'{str(j)}]')\n",
        "  \n",
        "  \n",
        "  \n",
        "  for  i in range(0,n1):\n",
        "      for  j in range(0,n1):\n",
        "         if i!=j:\n",
        "            if G.has_node( f'[{str(i)}]'+ f'[{str(i)}'+','+f'{str(j)}]')==True:\n",
        "               G.add_edge( f'[{str(i)}]'+ f'[{str(i)}'+','+f'{str(j)}]',f'[{str(j)}]'+ f'[{str(j)}'+','+f'{str(i)}]')\n",
        "\n",
        "\n",
        "\n",
        "  def circulo(i):\n",
        "   lista=[]\n",
        "   for j in range(0,n1):\n",
        "     if i!=j:\n",
        "      if  G.has_node( f'[{str(i)}]'+ f'[{str(i)}'+','+f'{str(j)}]')==True:\n",
        "         lista.append(f'[{str(i)}]'+ f'[{str(i)}'+','+f'{str(j)}]')\n",
        "        \n",
        "         \n",
        "  \n",
        "   nx.add_cycle(G,lista)\n",
        " \n",
        " \n",
        "  for i in range(0,n1):\n",
        "     circulo(i)\n",
        "  \n",
        "  nx.write_gexf(G, f\"Inflated_cycle{(str(m))}.gexf\")\n",
        "  nx.write_edgelist(G,f\"Inflated_cycle{(str(m))}.tgf\", delimiter=f\" \",data=False)\n",
        "  nx.write_pajek(G, f\"Inflated_cycle{(str(m))}.net\")\n",
        "  \n",
        "  \n",
        "\n",
        "\n",
        "m=410\n",
        "#H =nx.complete_graph(12)\n",
        "#nx.draw(H)\n",
        "#H= nx.complete_bipartite_graph(3,4)\n",
        "#H=nx.circular_ladder_graph(10)\n",
        "#H=nx.dorogovtsev_goltsev_mendes_graph(4)\n",
        "#H=nx.lollipop_graph(10,5, create_using=None)\n",
        "H=nx.random_regular_graph(3,1000, seed=None)\n",
        "#H=nx.mycielski_graph(4)\n",
        "\n",
        "Inflated_cycle(H)\n"
      ]
    },
    {
      "cell_type": "code",
      "source": [],
      "metadata": {
        "id": "8ofwca8_wS-G"
      },
      "execution_count": null,
      "outputs": []
    },
    {
      "cell_type": "code",
      "source": [],
      "metadata": {
        "id": "yxXWuy3owTRg"
      },
      "execution_count": null,
      "outputs": []
    },
    {
      "cell_type": "code",
      "source": [],
      "metadata": {
        "id": "wEQjuLDPol0_"
      },
      "execution_count": null,
      "outputs": []
    }
  ]
}